{
  "nbformat": 4,
  "nbformat_minor": 0,
  "metadata": {
    "colab": {
      "provenance": []
    },
    "kernelspec": {
      "name": "python3",
      "display_name": "Python 3"
    },
    "language_info": {
      "name": "python"
    }
  },
  "cells": [
    {
      "cell_type": "code",
      "execution_count": 1,
      "metadata": {
        "id": "hdPmoz6WdHt4",
        "colab": {
          "base_uri": "https://localhost:8080/"
        },
        "outputId": "74d99f71-9870-4adc-a271-7cad7acf270e"
      },
      "outputs": [
        {
          "output_type": "stream",
          "name": "stdout",
          "text": [
            "--2023-08-20 13:26:32--  https://www.cse.iitk.ac.in/users/purushot/courses/ml/2022-23-s/material/assn/assn2.zip\n",
            "Resolving www.cse.iitk.ac.in (www.cse.iitk.ac.in)... 202.3.77.10\n",
            "Connecting to www.cse.iitk.ac.in (www.cse.iitk.ac.in)|202.3.77.10|:443... connected.\n",
            "HTTP request sent, awaiting response... 200 OK\n",
            "Length: 59842602 (57M) [application/zip]\n",
            "Saving to: ‘assn2.zip’\n",
            "\n",
            "assn2.zip           100%[===================>]  57.07M  6.09MB/s    in 11s     \n",
            "\n",
            "2023-08-20 13:26:45 (5.32 MB/s) - ‘assn2.zip’ saved [59842602/59842602]\n",
            "\n"
          ]
        }
      ],
      "source": [
        "import zipfile\n",
        "\n",
        "!wget https://www.cse.iitk.ac.in/users/purushot/courses/ml/2022-23-s/material/assn/assn2.zip\n",
        "\n",
        "zip_ref = zipfile.ZipFile(\"assn2.zip\" ,  \"r\")\n",
        "zip_ref.extractall()\n",
        "zip_ref.close()"
      ]
    },
    {
      "cell_type": "code",
      "source": [
        "import os\n",
        "\n",
        "num= len(os.listdir(\"assn2/train/\"))\n",
        "num"
      ],
      "metadata": {
        "colab": {
          "base_uri": "https://localhost:8080/"
        },
        "id": "YF2-Rwz5dry-",
        "outputId": "aea6c6af-6a91-4b65-eec9-ab9cda0692ce"
      },
      "execution_count": 2,
      "outputs": [
        {
          "output_type": "execute_result",
          "data": {
            "text/plain": [
              "2001"
            ]
          },
          "metadata": {},
          "execution_count": 2
        }
      ]
    },
    {
      "cell_type": "markdown",
      "source": [
        "### Loading data and preprossing"
      ],
      "metadata": {
        "id": "Kk-iGhM4dvIh"
      }
    },
    {
      "cell_type": "code",
      "source": [
        "import os\n",
        "import cv2\n",
        "import numpy as np\n",
        "from PIL import Image as img\n",
        "# Directory containing the images\n",
        "def load_images(directory):\n",
        "  #directory = 'assn2/train'\n",
        "  num= len(os.listdir(directory))-1 ;\n",
        "  print(num)\n",
        "  # List to store the loaded images\n",
        "  images = []\n",
        "\n",
        "  # Iterate over the files in the directory\n",
        "  for i in range(num):\n",
        "    filename = f\"{i}.png\"\n",
        "    # Construct the full file path\n",
        "    #print(filename)\n",
        "    file_path = os.path.join(directory, filename)\n",
        "\n",
        "    # Load the image using OpenCV\n",
        "    image = img.open(file_path)\n",
        "    \"\"\"\"\"\"\n",
        "    test_image_array = np.array(image)\n",
        "    red,green,blue,alpha = image.split()\n",
        "    #test_image.show()\n",
        "    alpha_3 = np.array(alpha)\n",
        "    #alpha_3 = np.where(alpha_3==255,0,alpha_3)\n",
        "    #cv2_imshow(alpha_3)\n",
        "    #alpha_3 = np.where(alpha_3>0,255,alpha_3)\n",
        "    #cv2_imshow(alpha_3)\n",
        "    image_bgr = cv2.imread(os.path.join(directory, filename))\n",
        "    # Convert BGR image to HSV\n",
        "    image_hsv = cv2.cvtColor(image_bgr, cv2.COLOR_BGR2HSV)\n",
        "    # Access individual channels (H, S, V)\n",
        "    h, s, v = cv2.split(image_hsv)\n",
        "    hue_channel = image_hsv[:,:,0]\n",
        "    index = np.where(hue_channel==np.max(hue_channel))\n",
        "    index_s = np.where(s<250)\n",
        "    index_v = np.where(v<253)\n",
        "    index_h = np.where(h>100)\n",
        "    #index_2 = np.where(alpha_3<255)\n",
        "    #alpha_3 = np.where(hue_channel==hue_channel[0][0],alplha_3=255,alpha_3)\n",
        "    index_2 = np.where(test_image_array[:,:,3]<255)\n",
        "    test_image_array[index_2] = [255,255,255,0]\n",
        "    #cv2_imshow(test_image_array)\n",
        "    test_image_array[index_s] = [255,255,255,0]\n",
        "    #cv2_imshow(test_image_array)\n",
        "    right_half = test_image_array[:, 368:446]\n",
        "    #cv2_imshow(right_half)\n",
        "    ###########shi################\n",
        "    final_hsv = cv2.cvtColor(right_half, cv2.COLOR_BGR2HSV)\n",
        "    np.unique(final_hsv[:,:,0])\n",
        "    final_h, final_s, final_v = cv2.split(final_hsv)\n",
        "    '''t = np.unique(final_h, return_counts=True)\n",
        "    print(\"t:\",t)\n",
        "    ind = np.where(t[1]==np.max(t[1][1:]))\n",
        "    #print(t[ind[0][0]])\n",
        "    last_index = np.where(final_h!=t[0][ind])\n",
        "    right_half[last_index] = [255]\n",
        "    cv2_imshow(right_half)\n",
        "    cv2_imshow(cv2.cvtColor(right_half,cv2.COLOR_BGR2GRAY))'''\n",
        "    t = np.unique(final_hsv, return_counts=True)\n",
        "    #print(\"t:\",t)\n",
        "    ind = np.where(t[1]==np.max(t[1][1:]))\n",
        "    #print(t[ind[0][0]])\n",
        "    last_index = np.where(final_hsv>200)\n",
        "    right_half[last_index] = [255]\n",
        "    #cv2_imshow(right_half)\n",
        "    #cv2_imshow(cv2.cvtColor(right_half,cv2.COLOR_BGR2GRAY))\n",
        "    # Add the image to the list\n",
        "    images.append(cv2.resize(cv2.cvtColor(right_half,cv2.COLOR_BGR2GRAY),(28,28)))\n",
        "  '''for i in range(num):\n",
        "    images[i]=images[i][:,350:450]'''\n",
        "\n",
        "  images= np.array(images)\n",
        "  return images\n"
      ],
      "metadata": {
        "id": "cF3b4CGLeAPu"
      },
      "execution_count": 3,
      "outputs": []
    },
    {
      "cell_type": "markdown",
      "source": [
        "###Loading labels from the folder and making them into format of 0, 1"
      ],
      "metadata": {
        "id": "YaUSQonieD1r"
      }
    },
    {
      "cell_type": "code",
      "source": [
        "def load_labels(directory):\n",
        "  def convert_labels(labels):\n",
        "    mapping = {'ODD': 0, 'EVEN': 1}\n",
        "    converted_labels = [mapping[label] for label in labels]\n",
        "    return converted_labels\n",
        "\n",
        "  filename=\"labels.txt\"\n",
        "  file_path = os.path.join(directory, filename)\n",
        "  # reading the file\n",
        "  my_file = open(file_path , \"r\")\n",
        "  data = my_file.read()\n",
        "\n",
        "  # replacing end splitting the text\n",
        "  # when newline ('\\n') is seen.\n",
        "  data_into_list = data.split(\"\\n\")\n",
        "  data_len= len(data_into_list)-1\n",
        "  data_into_list=data_into_list[:data_len]\n",
        "  print(len(data_into_list))\n",
        "  my_file.close()\n",
        "  return np.array(convert_labels(data_into_list))"
      ],
      "metadata": {
        "id": "UlXHk_meeKS6"
      },
      "execution_count": 4,
      "outputs": []
    },
    {
      "cell_type": "code",
      "source": [
        "images = load_images(\"assn2/train\")\n",
        "labels = load_labels(\"assn2/train\")"
      ],
      "metadata": {
        "colab": {
          "base_uri": "https://localhost:8080/"
        },
        "id": "XM562-V-eNic",
        "outputId": "21cc27d0-9c14-4f67-f289-813597b6076c"
      },
      "execution_count": 77,
      "outputs": [
        {
          "output_type": "stream",
          "name": "stdout",
          "text": [
            "2000\n",
            "2000\n"
          ]
        }
      ]
    },
    {
      "cell_type": "code",
      "source": [
        "images.shape"
      ],
      "metadata": {
        "colab": {
          "base_uri": "https://localhost:8080/"
        },
        "id": "rJ4Qr2izeZBW",
        "outputId": "b07cf443-a562-4f2e-caad-e28220359708"
      },
      "execution_count": 78,
      "outputs": [
        {
          "output_type": "execute_result",
          "data": {
            "text/plain": [
              "(2000, 28, 28)"
            ]
          },
          "metadata": {},
          "execution_count": 78
        }
      ]
    },
    {
      "cell_type": "code",
      "source": [
        "from google.colab.patches import cv2_imshow\n",
        "cv2_imshow(images[2])"
      ],
      "metadata": {
        "colab": {
          "base_uri": "https://localhost:8080/",
          "height": 45
        },
        "id": "gX6aPpVMecnx",
        "outputId": "73a11cf2-1f59-400c-d8a7-c4c1d75b062e"
      },
      "execution_count": 79,
      "outputs": [
        {
          "output_type": "display_data",
          "data": {
            "text/plain": [
              "<PIL.Image.Image image mode=L size=28x28>"
            ],
            "image/png": "[encoded data removed]"
          },
          "metadata": {}
        }
      ]
    },
    {
      "cell_type": "code",
      "source": [
        "labels[2]"
      ],
      "metadata": {
        "colab": {
          "base_uri": "https://localhost:8080/"
        },
        "id": "9DB4Eh18SmMv",
        "outputId": "4063c582-d7a3-4bc7-a5de-d101e354d83a"
      },
      "execution_count": 80,
      "outputs": [
        {
          "output_type": "execute_result",
          "data": {
            "text/plain": [
              "0"
            ]
          },
          "metadata": {},
          "execution_count": 80
        }
      ]
    },
    {
      "cell_type": "code",
      "source": [
        "labels.shape"
      ],
      "metadata": {
        "colab": {
          "base_uri": "https://localhost:8080/"
        },
        "id": "X12i5MAVefgG",
        "outputId": "45325d49-1d77-4b49-8fd0-4df2db2c4dfa"
      },
      "execution_count": 81,
      "outputs": [
        {
          "output_type": "execute_result",
          "data": {
            "text/plain": [
              "(2000,)"
            ]
          },
          "metadata": {},
          "execution_count": 81
        }
      ]
    },
    {
      "cell_type": "markdown",
      "source": [
        "##Standardization"
      ],
      "metadata": {
        "id": "X-kfBPm1em1_"
      }
    },
    {
      "cell_type": "code",
      "source": [
        "import os\n",
        "import cv2\n",
        "import numpy as np\n",
        "from sklearn.model_selection import train_test_split\n",
        "from tensorflow.keras.layers import Flatten"
      ],
      "metadata": {
        "id": "KcptOoCietp-"
      },
      "execution_count": 82,
      "outputs": []
    },
    {
      "cell_type": "code",
      "source": [
        "def img_flatten(X):\n",
        "  X_train =[]\n",
        "  num = len(X)\n",
        "  X = X/255.\n",
        "  for i in range(num):\n",
        "    X_train.append( X[i].flatten())\n",
        "\n",
        "  X_train = np.array(X_train)\n",
        "  return X_train"
      ],
      "metadata": {
        "id": "HCc-rXaWOtQb"
      },
      "execution_count": 83,
      "outputs": []
    },
    {
      "cell_type": "code",
      "source": [
        "X_train = img_flatten(images)"
      ],
      "metadata": {
        "id": "SXQxM8BMPKmT"
      },
      "execution_count": 84,
      "outputs": []
    },
    {
      "cell_type": "code",
      "source": [
        "from sklearn.svm import SVC\n",
        "classifier = SVC(kernel = 'linear', random_state = 0)\n",
        "classifier.fit(X_train, labels)"
      ],
      "metadata": {
        "colab": {
          "base_uri": "https://localhost:8080/",
          "height": 74
        },
        "id": "-XbONUFxfDOh",
        "outputId": "fc90258a-973c-4e52-d57b-30988fa37a9c"
      },
      "execution_count": 85,
      "outputs": [
        {
          "output_type": "execute_result",
          "data": {
            "text/plain": [
              "SVC(kernel='linear', random_state=0)"
            ],
            "text/html": [
              "<style>#sk-container-id-5 {color: black;background-color: white;}#sk-container-id-5 pre{padding: 0;}#sk-container-id-5 div.sk-toggleable {background-color: white;}#sk-container-id-5 label.sk-toggleable__label {cursor: pointer;display: block;width: 100%;margin-bottom: 0;padding: 0.3em;box-sizing: border-box;text-align: center;}#sk-container-id-5 label.sk-toggleable__label-arrow:before {content: \"▸\";float: left;margin-right: 0.25em;color: #696969;}#sk-container-id-5 label.sk-toggleable__label-arrow:hover:before {color: black;}#sk-container-id-5 div.sk-estimator:hover label.sk-toggleable__label-arrow:before {color: black;}#sk-container-id-5 div.sk-toggleable__content {max-height: 0;max-width: 0;overflow: hidden;text-align: left;background-color: #f0f8ff;}#sk-container-id-5 div.sk-toggleable__content pre {margin: 0.2em;color: black;border-radius: 0.25em;background-color: #f0f8ff;}#sk-container-id-5 input.sk-toggleable__control:checked~div.sk-toggleable__content {max-height: 200px;max-width: 100%;overflow: auto;}#sk-container-id-5 input.sk-toggleable__control:checked~label.sk-toggleable__label-arrow:before {content: \"▾\";}#sk-container-id-5 div.sk-estimator input.sk-toggleable__control:checked~label.sk-toggleable__label {background-color: #d4ebff;}#sk-container-id-5 div.sk-label input.sk-toggleable__control:checked~label.sk-toggleable__label {background-color: #d4ebff;}#sk-container-id-5 input.sk-hidden--visually {border: 0;clip: rect(1px 1px 1px 1px);clip: rect(1px, 1px, 1px, 1px);height: 1px;margin: -1px;overflow: hidden;padding: 0;position: absolute;width: 1px;}#sk-container-id-5 div.sk-estimator {font-family: monospace;background-color: #f0f8ff;border: 1px dotted black;border-radius: 0.25em;box-sizing: border-box;margin-bottom: 0.5em;}#sk-container-id-5 div.sk-estimator:hover {background-color: #d4ebff;}#sk-container-id-5 div.sk-parallel-item::after {content: \"\";width: 100%;border-bottom: 1px solid gray;flex-grow: 1;}#sk-container-id-5 div.sk-label:hover label.sk-toggleable__label {background-color: #d4ebff;}#sk-container-id-5 div.sk-serial::before {content: \"\";position: absolute;border-left: 1px solid gray;box-sizing: border-box;top: 0;bottom: 0;left: 50%;z-index: 0;}#sk-container-id-5 div.sk-serial {display: flex;flex-direction: column;align-items: center;background-color: white;padding-right: 0.2em;padding-left: 0.2em;position: relative;}#sk-container-id-5 div.sk-item {position: relative;z-index: 1;}#sk-container-id-5 div.sk-parallel {display: flex;align-items: stretch;justify-content: center;background-color: white;position: relative;}#sk-container-id-5 div.sk-item::before, #sk-container-id-5 div.sk-parallel-item::before {content: \"\";position: absolute;border-left: 1px solid gray;box-sizing: border-box;top: 0;bottom: 0;left: 50%;z-index: -1;}#sk-container-id-5 div.sk-parallel-item {display: flex;flex-direction: column;z-index: 1;position: relative;background-color: white;}#sk-container-id-5 div.sk-parallel-item:first-child::after {align-self: flex-end;width: 50%;}#sk-container-id-5 div.sk-parallel-item:last-child::after {align-self: flex-start;width: 50%;}#sk-container-id-5 div.sk-parallel-item:only-child::after {width: 0;}#sk-container-id-5 div.sk-dashed-wrapped {border: 1px dashed gray;margin: 0 0.4em 0.5em 0.4em;box-sizing: border-box;padding-bottom: 0.4em;background-color: white;}#sk-container-id-5 div.sk-label label {font-family: monospace;font-weight: bold;display: inline-block;line-height: 1.2em;}#sk-container-id-5 div.sk-label-container {text-align: center;}#sk-container-id-5 div.sk-container {/* jupyter's `normalize.less` sets `[hidden] { display: none; }` but bootstrap.min.css set `[hidden] { display: none !important; }` so we also need the `!important` here to be able to override the default hidden behavior on the sphinx rendered scikit-learn.org. See: https://github.com/scikit-learn/scikit-learn/issues/21755 */display: inline-block !important;position: relative;}#sk-container-id-5 div.sk-text-repr-fallback {display: none;}</style><div id=\"sk-container-id-5\" class=\"sk-top-container\"><div class=\"sk-text-repr-fallback\"><pre>SVC(kernel=&#x27;linear&#x27;, random_state=0)</pre><b>In a Jupyter environment, please rerun this cell to show the HTML representation or trust the notebook. <br />On GitHub, the HTML representation is unable to render, please try loading this page with nbviewer.org.</b></div><div class=\"sk-container\" hidden><div class=\"sk-item\"><div class=\"sk-estimator sk-toggleable\"><input class=\"sk-toggleable__control sk-hidden--visually\" id=\"sk-estimator-id-5\" type=\"checkbox\" checked><label for=\"sk-estimator-id-5\" class=\"sk-toggleable__label sk-toggleable__label-arrow\">SVC</label><div class=\"sk-toggleable__content\"><pre>SVC(kernel=&#x27;linear&#x27;, random_state=0)</pre></div></div></div></div></div>"
            ]
          },
          "metadata": {},
          "execution_count": 85
        }
      ]
    },
    {
      "cell_type": "code",
      "source": [
        "preds = classifier.predict(X_train)\n",
        "preds"
      ],
      "metadata": {
        "id": "fCFpeEPefZne",
        "colab": {
          "base_uri": "https://localhost:8080/"
        },
        "outputId": "8204e0a3-db52-48fe-e04a-e3616c6fc29d"
      },
      "execution_count": 86,
      "outputs": [
        {
          "output_type": "execute_result",
          "data": {
            "text/plain": [
              "array([0, 0, 0, ..., 1, 0, 1])"
            ]
          },
          "metadata": {},
          "execution_count": 86
        }
      ]
    },
    {
      "cell_type": "code",
      "source": [
        "from sklearn.metrics import accuracy_score\n",
        "accuracy_score(labels, preds)"
      ],
      "metadata": {
        "colab": {
          "base_uri": "https://localhost:8080/"
        },
        "id": "FbO5O4y4IxxR",
        "outputId": "8765ef9e-f0ec-4b63-eae9-34d01e54815a"
      },
      "execution_count": 87,
      "outputs": [
        {
          "output_type": "execute_result",
          "data": {
            "text/plain": [
              "1.0"
            ]
          },
          "metadata": {},
          "execution_count": 87
        }
      ]
    },
    {
      "cell_type": "markdown",
      "source": [
        "## test data"
      ],
      "metadata": {
        "id": "MXpAA7oNPtDf"
      }
    },
    {
      "cell_type": "code",
      "source": [
        "test_images = load_images(\"/content/assn2/dummy_submit/test\")\n",
        "cv2_imshow(test_images[2])"
      ],
      "metadata": {
        "colab": {
          "base_uri": "https://localhost:8080/",
          "height": 62
        },
        "id": "ZdlByrfuOJaO",
        "outputId": "a7f1aba6-8264-4c15-d90e-854e7fd1d6f3"
      },
      "execution_count": 88,
      "outputs": [
        {
          "output_type": "stream",
          "name": "stdout",
          "text": [
            "7\n"
          ]
        },
        {
          "output_type": "display_data",
          "data": {
            "text/plain": [
              "<PIL.Image.Image image mode=L size=28x28>"
            ],
            "image/png": "[encoded data removed]"
          },
          "metadata": {}
        }
      ]
    },
    {
      "cell_type": "code",
      "source": [
        "test_labels = load_labels(\"/content/assn2/dummy_submit/test\")\n",
        "test_labels"
      ],
      "metadata": {
        "colab": {
          "base_uri": "https://localhost:8080/"
        },
        "id": "PaYmIArhOlUr",
        "outputId": "12d3f850-624e-488c-84ab-74f1a157945c"
      },
      "execution_count": 89,
      "outputs": [
        {
          "output_type": "stream",
          "name": "stdout",
          "text": [
            "7\n"
          ]
        },
        {
          "output_type": "execute_result",
          "data": {
            "text/plain": [
              "array([0, 0, 0, 1, 1, 0, 1])"
            ]
          },
          "metadata": {},
          "execution_count": 89
        }
      ]
    },
    {
      "cell_type": "code",
      "source": [
        "from sklearn.metrics import accuracy_score\n",
        "accuracy_score(test_labels, classifier.predict(img_flatten(test_images)))"
      ],
      "metadata": {
        "colab": {
          "base_uri": "https://localhost:8080/"
        },
        "id": "fORYJzJ1P-hA",
        "outputId": "de72cd08-60d9-42c3-c02a-131c6bbd1f3d"
      },
      "execution_count": 90,
      "outputs": [
        {
          "output_type": "execute_result",
          "data": {
            "text/plain": [
              "1.0"
            ]
          },
          "metadata": {},
          "execution_count": 90
        }
      ]
    }
  ]
}